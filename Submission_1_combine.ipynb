{
 "cells": [
  {
   "cell_type": "code",
   "execution_count": 102,
   "id": "12d63df8",
   "metadata": {},
   "outputs": [],
   "source": [
    "import numpy as np\n",
    "from PIL import Image\n",
    "import math\n",
    "import matplotlib.pyplot as plt"
   ]
  },
  {
   "cell_type": "code",
   "execution_count": 103,
   "id": "f14a4dcc",
   "metadata": {},
   "outputs": [
    {
     "name": "stdout",
     "output_type": "stream",
     "text": [
      "Enter the Image pathtest.jpg\n",
      "Enter the angles for rotation and skewness : 90 45\n"
     ]
    }
   ],
   "source": [
    "path = input(\"Enter the Image path\")\n",
    "image = np.array(Image.open(path))\n",
    "theta_1, theta_2 = map(lambda s: int(s), input(\"Enter the angles for rotation and skewness : \").split())"
   ]
  },
  {
   "cell_type": "code",
   "execution_count": 104,
   "id": "dcdb825c",
   "metadata": {},
   "outputs": [],
   "source": [
    "def calculate_trigonometry_params(theta):\n",
    "    theta = math.radians(theta)\n",
    "    return math.sin(theta), math.cos(theta), math.tan(theta)"
   ]
  },
  {
   "cell_type": "code",
   "execution_count": 105,
   "id": "dcaae389",
   "metadata": {},
   "outputs": [],
   "source": [
    "def skew(image, theta):\n",
    "    new_height  = image.shape[0]\n",
    "    tan = math.tan(math.radians(theta))\n",
    "    new_width  = round(abs(image.shape[1])+abs(image.shape[0]/tan))+1\n",
    "    output = np.zeros((new_height,new_width,image.shape[2]))\n",
    "    \n",
    "    for i in range(image.shape[0]):\n",
    "        for j in range(image.shape[1]):\n",
    "\n",
    "            new_x = round(j + (i/tan))\n",
    "            new_y = i\n",
    "\n",
    "            output[new_y,new_x,:]=image[i,j,:]   \n",
    "    return output\n"
   ]
  },
  {
   "cell_type": "code",
   "execution_count": 106,
   "id": "a4f72b59",
   "metadata": {},
   "outputs": [],
   "source": [
    "def rotate (image, theta):\n",
    "    \n",
    "    x, y, channels = image.shape[1], image.shape[0], image.shape[2]\n",
    "    sin, cos, _ = calculate_trigonometry_params(theta_1)\n",
    "    rotation_matrix =  np.array([[cos, -sin],\n",
    "                            [sin, cos]])\n",
    "    \n",
    "    inverse_rotation_matrix = rotation_matrix.T\n",
    "    new_height  = round(abs(y * cos) + abs(x * sin))+1\n",
    "    new_width  = round(abs(x * cos) + abs(y * sin))+1\n",
    "    \n",
    "    output = np.zeros((new_height, new_width, channels))\n",
    "    original_center_point = [round(((image.shape[1]+1)/2)-1), round(((image.shape[0]+1)/2)-1)] #x, y = width, height\n",
    "    new_center_point = [round(((new_width+1)/2)-1) , round(((new_height+1)/2)-1)]\n",
    "    \n",
    "    \n",
    "    for i in range(new_height):\n",
    "        for j in range(new_width):\n",
    "            \n",
    "            #new grid\n",
    "            y = i - new_center_point[1] +1                   \n",
    "            x = j - new_center_point[0] +1\n",
    "\n",
    "            original_x = (int(inverse_rotation_matrix[0,0] * x + inverse_rotation_matrix[0,1] * y))\n",
    "            original_y = (int(inverse_rotation_matrix[1,0] * x + inverse_rotation_matrix[1,1] * y))\n",
    "\n",
    "\n",
    "            new_y = original_center_point[1] + original_y\n",
    "            new_x = original_center_point[0] + original_x\n",
    "\n",
    "            if new_x < image.shape[1] and new_y < image.shape[0] and new_x>=0 and new_y>=0:\n",
    "                output[i, j, :] = image[new_y, new_x, :]\n",
    "    \n",
    "    return output"
   ]
  },
  {
   "cell_type": "code",
   "execution_count": 107,
   "id": "2af84e3e",
   "metadata": {},
   "outputs": [],
   "source": [
    "def rotate_and_skew (image, theta_1, theta_2):\n",
    "\n",
    "    output = rotate (image, theta_1)               \n",
    "    output2 = skew(image, theta_2)\n",
    "    output3 = skew(output, theta_2)\n",
    "    \n",
    "    return output, output2, output3"
   ]
  },
  {
   "cell_type": "code",
   "execution_count": null,
   "id": "25a3c5f7",
   "metadata": {},
   "outputs": [],
   "source": [
    "results = rotate_and_skew(image, theta_1, theta_2)\n",
    "labels = [\"rotated by {}\".format(theta_1), \"skewed by {}\".format(theta_2),\n",
    "          \"rotated and skewed by {} {}\".format(theta_1,theta_2)]\n",
    "\n",
    "results = list(map(lambda image:Image.fromarray((image).astype(np.uint8)), results))\n",
    "\n",
    "for i in range(len(results)):\n",
    "    results[i].save(\"images/\"+labels[i] + \".png\")\n",
    "print(results)"
   ]
  },
  {
   "cell_type": "code",
   "execution_count": null,
   "id": "13be7871",
   "metadata": {},
   "outputs": [],
   "source": [
    "fig, axes = plt.subplots(2, 2, figsize=(10, 10))\n",
    "\n",
    "# Display the first image\n",
    "axes[0,0].imshow(image)\n",
    "axes[0,0].set_title('original image')\n",
    "\n",
    "# Display the second image\n",
    "axes[0,1].imshow(results[0])\n",
    "axes[0,1].set_title(labels[0])\n",
    "\n",
    "axes[1,0].imshow(results[1])\n",
    "axes[1,0].set_title(labels[1])\n",
    "\n",
    "axes[1,1].imshow(results[2])\n",
    "axes[1,1].set_title(labels[2])\n",
    "\n",
    "# Adjust the layout\n",
    "plt.tight_layout()\n",
    "# Show the figure\n",
    "plt.show()"
   ]
  },
  {
   "cell_type": "code",
   "execution_count": null,
   "id": "48c06b7e",
   "metadata": {},
   "outputs": [],
   "source": []
  }
 ],
 "metadata": {
  "kernelspec": {
   "display_name": "Python 3",
   "language": "python",
   "name": "python3"
  },
  "language_info": {
   "codemirror_mode": {
    "name": "ipython",
    "version": 3
   },
   "file_extension": ".py",
   "mimetype": "text/x-python",
   "name": "python",
   "nbconvert_exporter": "python",
   "pygments_lexer": "ipython3",
   "version": "3.9.1"
  }
 },
 "nbformat": 4,
 "nbformat_minor": 5
}
