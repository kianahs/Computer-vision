{
 "cells": [
  {
   "cell_type": "code",
   "execution_count": 3,
   "id": "17a0cdc3",
   "metadata": {},
   "outputs": [],
   "source": [
    "import numpy as np\n",
    "from PIL import Image\n",
    "import math\n",
    "import matplotlib.pyplot as plt"
   ]
  },
  {
   "cell_type": "code",
   "execution_count": 6,
   "id": "2486d9d8",
   "metadata": {},
   "outputs": [],
   "source": [
    "import cv2\n",
    "\n",
    "# Open the video file\n",
    "video_capture = cv2.VideoCapture('Dataset//DatasetC.avi')  # Replace with your video file path\n",
    "\n",
    "# Check if the video file is opened successfully\n",
    "if not video_capture.isOpened():\n",
    "    print(\"Error: Could not open video file.\")\n",
    "    exit()\n",
    "\n",
    "# Loop through the frames and process each one\n",
    "frames = []\n",
    "while True:\n",
    "    ret, frame = video_capture.read()\n",
    "\n",
    "    if not ret:\n",
    "        break  # Break the loop if we've reached the end of the video\n",
    "#     print(type(frame))\n",
    "    frames.append(frame)\n",
    "\n",
    "\n",
    "# Release the video file and close the display window\n",
    "video_capture.release()\n",
    "cv2.destroyAllWindows()"
   ]
  },
  {
   "cell_type": "code",
   "execution_count": 21,
   "id": "45ed7129",
   "metadata": {},
   "outputs": [
    {
     "ename": "ValueError",
     "evalue": "The truth value of an array with more than one element is ambiguous. Use a.any() or a.all()",
     "output_type": "error",
     "traceback": [
      "\u001b[1;31m---------------------------------------------------------------------------\u001b[0m",
      "\u001b[1;31mValueError\u001b[0m                                Traceback (most recent call last)",
      "\u001b[1;32m<ipython-input-21-4f00aa4b1794>\u001b[0m in \u001b[0;36m<module>\u001b[1;34m\u001b[0m\n\u001b[0;32m     31\u001b[0m \u001b[1;33m\u001b[0m\u001b[0m\n\u001b[0;32m     32\u001b[0m \u001b[1;33m\u001b[0m\u001b[0m\n\u001b[1;32m---> 33\u001b[1;33m \u001b[0mframe_difference\u001b[0m\u001b[1;33m(\u001b[0m\u001b[0mframes\u001b[0m\u001b[1;33m)\u001b[0m\u001b[1;33m\u001b[0m\u001b[1;33m\u001b[0m\u001b[0m\n\u001b[0m",
      "\u001b[1;32m<ipython-input-21-4f00aa4b1794>\u001b[0m in \u001b[0;36mframe_difference\u001b[1;34m(all_frames)\u001b[0m\n\u001b[0;32m     18\u001b[0m         \u001b[1;32mfor\u001b[0m \u001b[0mk\u001b[0m\u001b[1;33m,\u001b[0m \u001b[0mchannel\u001b[0m \u001b[1;32min\u001b[0m \u001b[0menumerate\u001b[0m\u001b[1;33m(\u001b[0m\u001b[1;33m[\u001b[0m\u001b[0mred_threshold\u001b[0m\u001b[1;33m,\u001b[0m \u001b[0mgreen_threshold\u001b[0m\u001b[1;33m,\u001b[0m \u001b[0mblue_threshold\u001b[0m\u001b[1;33m]\u001b[0m\u001b[1;33m)\u001b[0m\u001b[1;33m:\u001b[0m\u001b[1;33m\u001b[0m\u001b[1;33m\u001b[0m\u001b[0m\n\u001b[0;32m     19\u001b[0m             \u001b[1;32mfor\u001b[0m \u001b[0mpixel\u001b[0m \u001b[1;32min\u001b[0m \u001b[0mthresholded_frame\u001b[0m\u001b[1;33m[\u001b[0m\u001b[1;33m:\u001b[0m\u001b[1;33m,\u001b[0m\u001b[1;33m:\u001b[0m\u001b[1;33m,\u001b[0m\u001b[0mk\u001b[0m\u001b[1;33m]\u001b[0m\u001b[1;33m:\u001b[0m\u001b[1;33m\u001b[0m\u001b[1;33m\u001b[0m\u001b[0m\n\u001b[1;32m---> 20\u001b[1;33m                 \u001b[1;32mif\u001b[0m \u001b[0mpixel\u001b[0m \u001b[1;33m>=\u001b[0m \u001b[0mchannel\u001b[0m\u001b[1;33m:\u001b[0m\u001b[1;33m\u001b[0m\u001b[1;33m\u001b[0m\u001b[0m\n\u001b[0m\u001b[0;32m     21\u001b[0m                    \u001b[0mpixel\u001b[0m \u001b[1;33m=\u001b[0m \u001b[1;36m255\u001b[0m\u001b[1;33m\u001b[0m\u001b[1;33m\u001b[0m\u001b[0m\n\u001b[0;32m     22\u001b[0m \u001b[1;33m\u001b[0m\u001b[0m\n",
      "\u001b[1;31mValueError\u001b[0m: The truth value of an array with more than one element is ambiguous. Use a.any() or a.all()"
     ]
    }
   ],
   "source": [
    "def frame_difference(all_frames):\n",
    "    \n",
    "    differences = []\n",
    "    refrence_frame = all_frames[0]\n",
    "    \n",
    "    for frame in all_frames:\n",
    "        \n",
    "        frame_differences = frame - refrence_frame\n",
    "\n",
    "        # Calculate the threshold as the mean or median value of the absolute difference image\n",
    "        red_threshold = int(np.mean(frame_differences[:, :, 0]))  # Use np.median(frame_diff) for median\n",
    "        green_threshold = int(np.mean(frame_differences[:, :, 1]))\n",
    "        blue_threshold = int(np.mean(frame_differences[:, :, 2]))\n",
    "                             \n",
    "        # Apply the threshold to classify pixels as foreground or background\n",
    "        thresholded_frame = np.zeros_like(frame_differences)\n",
    "        \n",
    "        for k, channel in enumerate([red_threshold, green_threshold, blue_threshold]):                   \n",
    "            for pixel in thresholded_frame[:,:,k]:\n",
    "                if pixel >= channel:\n",
    "                   pixel = 255\n",
    "        \n",
    "                             \n",
    "        thresholded_frame[frame_differences >= threshold] = 255\n",
    "        differences.append(thresholded_frame)\n",
    "#     print(differences[1].shape)\n",
    "    plt.imshow(differences[1])\n",
    "    \n",
    "\n",
    "#     return differences\n",
    "    \n",
    "    \n",
    "frame_difference(frames)"
   ]
  },
  {
   "cell_type": "code",
   "execution_count": null,
   "id": "d8b8ae01",
   "metadata": {},
   "outputs": [],
   "source": []
  }
 ],
 "metadata": {
  "kernelspec": {
   "display_name": "Python 3",
   "language": "python",
   "name": "python3"
  },
  "language_info": {
   "codemirror_mode": {
    "name": "ipython",
    "version": 3
   },
   "file_extension": ".py",
   "mimetype": "text/x-python",
   "name": "python",
   "nbconvert_exporter": "python",
   "pygments_lexer": "ipython3",
   "version": "3.9.1"
  }
 },
 "nbformat": 4,
 "nbformat_minor": 5
}
